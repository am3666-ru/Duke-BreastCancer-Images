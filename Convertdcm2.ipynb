{
  "nbformat": 4,
  "nbformat_minor": 0,
  "metadata": {
    "colab": {
      "provenance": [],
      "toc_visible": true,
      "authorship_tag": "ABX9TyNQK5Qi+QGoCgjh/IZRtkya",
      "include_colab_link": true
    },
    "kernelspec": {
      "name": "python3",
      "display_name": "Python 3"
    },
    "language_info": {
      "name": "python"
    }
  },
  "cells": [
    {
      "cell_type": "markdown",
      "metadata": {
        "id": "view-in-github",
        "colab_type": "text"
      },
      "source": [
        "<a href=\"https://colab.research.google.com/github/am3666-ru/Duke-BreastCancer-Images/blob/main/Convertdcm2.ipynb\" target=\"_parent\"><img src=\"https://colab.research.google.com/assets/colab-badge.svg\" alt=\"Open In Colab\"/></a>"
      ]
    },
    {
      "cell_type": "code",
      "execution_count": null,
      "metadata": {
        "id": "dsDcbvfuDMYZ"
      },
      "outputs": [],
      "source": []
    },
    {
      "cell_type": "code",
      "source": [],
      "metadata": {
        "id": "8qs1Eb1-2x62"
      },
      "execution_count": null,
      "outputs": []
    },
    {
      "cell_type": "code",
      "source": [],
      "metadata": {
        "id": "WFQxsVkq20mW"
      },
      "execution_count": null,
      "outputs": []
    },
    {
      "cell_type": "code",
      "source": [
        "import numpy as np\n",
        "import glob\n",
        "import os\n",
        "import re\n",
        "import sys\n",
        "import cv2\n",
        "from pathlib import Path\n",
        "from PIL import Image\n",
        "!pip install pydicom\n",
        "import pydicom.uid\n",
        "from pydicom import dcmread\n",
        "from pydicom.data import get_testdata_file\n",
        "from PIL import Image"
      ],
      "metadata": {
        "colab": {
          "base_uri": "https://localhost:8080/"
        },
        "id": "blPsTJaYDTI1",
        "outputId": "5102ab85-59fd-4f68-b7ee-22b49b639990"
      },
      "execution_count": null,
      "outputs": [
        {
          "output_type": "stream",
          "name": "stdout",
          "text": [
            "Requirement already satisfied: pydicom in /usr/local/lib/python3.10/dist-packages (2.4.4)\n"
          ]
        }
      ]
    },
    {
      "cell_type": "code",
      "source": [
        "from google.colab import drive\n",
        "drive.mount('/content/drive')\n",
        "from google.colab import auth\n",
        "\n",
        "auth.authenticate_user()"
      ],
      "metadata": {
        "colab": {
          "base_uri": "https://localhost:8080/"
        },
        "id": "KDh5fgka3eCt",
        "outputId": "0bd76f3d-0b67-4c53-e223-a534af9d00c5"
      },
      "execution_count": 7,
      "outputs": [
        {
          "output_type": "stream",
          "name": "stdout",
          "text": [
            "Mounted at /content/drive\n"
          ]
        }
      ]
    },
    {
      "cell_type": "code",
      "source": [
        "def normalize(image: np.ndarray) -> np.ndarray:\n",
        "    \"\"\"\n",
        "    Normalize MR scan image intensity. Sets minimum value to zero, rescales to the full 0-255 range.\n",
        "    :param np.ndarray image: a single slice of an MR scan\n",
        "    :return np.ndarray normalized_image: normalized MR slice\n",
        "    \"\"\"\n",
        "    # Set minimum value to zero\n",
        "    min_val = np.min(image)\n",
        "    max_val = np.max(image)\n",
        "    if min_val < max_val:\n",
        "        image = (image - min_val) / (max_val - min_val) * 255\n",
        "    else:\n",
        "        image = np.zeros_like(image)\n",
        "\n",
        "    # Apply gamma correction to enhance brightness\n",
        "    gamma = 0.8  # Adjust the gamma value as needed\n",
        "    normalized_image = cv2.convertScaleAbs(image, alpha=1.0)\n",
        "    normalized_image = cv2.pow(normalized_image / 255.0, gamma) * 255.0\n",
        "\n",
        "    return normalized_image.astype(np.uint8)\n",
        "\n",
        "def grayscale_to_rgb(grayscale_image):\n",
        "    return cv2.cvtColor(grayscale_image, cv2.COLOR_GRAY2RGB)\n",
        "\n",
        "def main():\n",
        "    \"\"\"Illustration of what normalize might look like in practice \"\"\"\n",
        "\n",
        "    #data_dir = \"/Volumes/MyData/manifest-1654812109500/test_data/test_0/Breast_MRI_001/DICOM/t1-sample\"  # some path to a set of DICOMs\n",
        "    #target_dir = \"/Volumes/MyData/manifest-1654812109500/test_data/test_0/Breast_MRI_001/PNG/t1-sample\"  # destination\n",
        "    data_dir = '/content/Duke-BreastCancer-Images/test_data/test_0/Breast_MRI_001/DICOM/1st-phase'\n",
        "    target_dir = '/content/Duke-BreastCancer-Images/test_data/test_0/Breast_MRI_001/PNG/1st-phase'\n",
        "\n",
        "    #data_dir = '/Users/abhinitamohanty/Desktop/test_data/test_0/Breast_MRI_001/DICOM/1st-phase'\n",
        "    #target_dir = '/Users/abhinitamohanty/Desktop/test_data/test_0/Breast_MRI_001/PNG/1st-phase'\n",
        "\n",
        "    for image_fpath in os.listdir(data_dir):\n",
        "        image_fpath = os.path.join(data_dir, image_fpath)\n",
        "\n",
        "        # Read the DICOM file, setting Transfer Syntax manually\n",
        "        ds = dcmread(image_fpath, force=True)\n",
        "\n",
        "        # Check if the dataset has pixel data\n",
        "        if \"PixelData\" not in ds:\n",
        "            print(f\"Skipping {image_fpath} as it doesn't contain pixel data.\")\n",
        "            continue\n",
        "\n",
        "        image_nparray = ds.pixel_array\n",
        "\n",
        "        normalized_image = normalize(image_nparray)\n",
        "        rgb_image = grayscale_to_rgb(normalized_image)\n",
        "\n",
        "        image_dir, fname = os.path.split(image_fpath)\n",
        "        fname = fname.replace(\".dcm\", \".png\")\n",
        "        cv2.imwrite(os.path.join(target_dir, fname), rgb_image)\n",
        "\n",
        "if __name__ == \"__main__\":\n",
        "    main()\n",
        "\n",
        "    pass"
      ],
      "metadata": {
        "colab": {
          "base_uri": "https://localhost:8080/"
        },
        "id": "xfcReuiYXPDc",
        "outputId": "a9a38c93-c479-4366-a28e-29d043ab58cc"
      },
      "execution_count": null,
      "outputs": [
        {
          "output_type": "stream",
          "name": "stdout",
          "text": [
            "Skipping /content/Duke-BreastCancer-Images/test_data/test_0/Breast_MRI_001/DICOM/1st-phase/readme as it doesn't contain pixel data.\n"
          ]
        }
      ]
    },
    {
      "cell_type": "markdown",
      "source": [],
      "metadata": {
        "id": "RaZOHHHZhonX"
      }
    }
  ]
}